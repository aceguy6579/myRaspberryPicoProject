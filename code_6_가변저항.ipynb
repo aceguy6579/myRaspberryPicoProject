{
 "cells": [
  {
   "cell_type": "markdown",
   "id": "acfa5956",
   "metadata": {},
   "source": [
    "# 코드 6.1 가변저항값 읽기"
   ]
  },
  {
   "cell_type": "code",
   "execution_count": null,
   "id": "b3d8be21",
   "metadata": {},
   "outputs": [],
   "source": [
    "import machine\n",
    "from utime import sleep\n",
    "\n",
    "analog_value = machine.ADC(0) # 0번 채널에 가변저항 연결\n",
    "\n",
    "while True:\n",
    "    reading = analog_value.read_u16() # 16비트값으로 반환\n",
    "    print(\"ADC: \", reading)\n",
    "    sleep(0.5)"
   ]
  }
 ],
 "metadata": {
  "language_info": {
   "name": "python"
  }
 },
 "nbformat": 4,
 "nbformat_minor": 5
}
