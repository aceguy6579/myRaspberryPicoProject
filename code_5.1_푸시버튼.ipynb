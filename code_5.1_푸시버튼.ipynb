{
 "cells": [
  {
   "cell_type": "markdown",
   "id": "31253bab",
   "metadata": {},
   "source": [
    "# 코드5.1 푸시 버튼 입력 - 풀다운 저항"
   ]
  },
  {
   "cell_type": "code",
   "execution_count": null,
   "id": "5ca5c45a",
   "metadata": {},
   "outputs": [],
   "source": [
    "from machine import Pin\n",
    "from utime import sleep\n",
    "\n",
    "led = Pin(25, Pin.OUT) # 내장 LED\n",
    "# 16번 핀에 푸시 버튼 연결, 내장 풀다운 저항 사용\n",
    "button = Pin(16, Pin.IN, Pin.PULL_DOWN)\n",
    "\n",
    "while True:\n",
    "    btn_status = button.value() # 푸시 버튼 상태 읽기\n",
    "    led.value(btn_status) # 푸시 버튼의 값으로 LED 설정"
   ]
  },
  {
   "cell_type": "markdown",
   "id": "aea2d9d2",
   "metadata": {},
   "source": [
    "# 코드5.2 푸시 버튼 입력 - 풀업 저항"
   ]
  },
  {
   "cell_type": "code",
   "execution_count": null,
   "id": "ecad4d99",
   "metadata": {},
   "outputs": [],
   "source": [
    "from machine import Pin\n",
    "from utime import sleep\n",
    "\n",
    "led = Pin(25, Pin.OUT) # 내장 LED\n",
    "# 16번 핀에 푸시 버튼 연결, 내장 풀업 저항 사용\n",
    "button = Pin(16, Pin.IN, Pin.PULL_UP)\n",
    "\n",
    "while True:\n",
    "    btn_status = button.value() # 푸시 버튼 상태 읽기\n",
    "    led.value(not btn_status) # 푸시 버튼의 반전된 값으로 LED 설정"
   ]
  },
  {
   "cell_type": "markdown",
   "id": "3ff617e1",
   "metadata": {},
   "source": [
    "# 코드 5.3 상승 에지 찾기"
   ]
  },
  {
   "cell_type": "code",
   "execution_count": null,
   "id": "76d1e8a5",
   "metadata": {},
   "outputs": [],
   "source": [
    "from machine import Pin\n",
    "import utime\n",
    "\n",
    "button_state_previous = False\n",
    "button_state_current = False\n",
    "\n",
    "led = Pin(25, Pin.OUT) # 내장 LED\n",
    "button = Pin(16, Pin.IN, Pin.PULL_DOWN) # 16번 핀에 푸시 버튼 연결\n",
    "\n",
    "count = 0\n",
    "\n",
    "while True:\n",
    "    button_state_current = button.value() # 푸시 버튼 상태 읽기\n",
    "    if button_state_current: # 현재 상태가 HIGH이고\n",
    "        if not button_state_previous: # 이전 상태가 LOW이면 상승에지\n",
    "            count = count + 1\n",
    "            # utime.sleep(0.1) # 디바운싱\n",
    "            led.toggle() # LED 상태 반전\n",
    "            print(count)\n",
    "    button_state_previous = button_state_current"
   ]
  }
 ],
 "metadata": {
  "language_info": {
   "name": "python"
  }
 },
 "nbformat": 4,
 "nbformat_minor": 5
}
